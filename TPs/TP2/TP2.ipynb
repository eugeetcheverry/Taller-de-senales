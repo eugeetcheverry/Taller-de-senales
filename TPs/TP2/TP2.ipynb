{
  "nbformat": 4,
  "nbformat_minor": 0,
  "metadata": {
    "colab": {
      "provenance": []
    },
    "kernelspec": {
      "name": "python3",
      "display_name": "Python 3"
    },
    "language_info": {
      "name": "python"
    }
  },
  "cells": [
    {
      "cell_type": "code",
      "execution_count": 4,
      "metadata": {
        "id": "54IjQ-khDuWq"
      },
      "outputs": [],
      "source": [
        "import pandas as pd\n",
        "from sklearn.preprocessing import OneHotEncoder, StandardScaler, PolynomialFeatures\n",
        "from sklearn.compose import ColumnTransformer\n",
        "from sklearn.pipeline import Pipeline\n",
        "from sklearn.linear_model import LinearRegression\n",
        "from sklearn.metrics import mean_squared_error\n",
        "from sklearn.linear_model import Ridge\n",
        "import matplotlib.pyplot as plt\n",
        "import numpy as np"
      ]
    },
    {
      "cell_type": "code",
      "source": [
        "#Read CSV\n",
        "!curl -L -o car_data.csv https://raw.githubusercontent.com/mvera1412/TA136-TB056-TB057-8625/main/data/car_data.csv\n",
        "df = pd.read_csv('car_data.csv')\n",
        "#Remove colums 'Car_name' and 'Owner'\n",
        "df = df.drop(columns={'Car_Name', 'Owner'})"
      ],
      "metadata": {
        "colab": {
          "base_uri": "https://localhost:8080/"
        },
        "id": "XlVadcwVD3it",
        "outputId": "630e15a9-2dee-4a0a-fc56-0881edf25c5c"
      },
      "execution_count": 5,
      "outputs": [
        {
          "output_type": "stream",
          "name": "stdout",
          "text": [
            "  % Total    % Received % Xferd  Average Speed   Time    Time     Time  Current\n",
            "                                 Dload  Upload   Total   Spent    Left  Speed\n",
            "100 18812  100 18812    0     0  91619      0 --:--:-- --:--:-- --:--:-- 91765\n"
          ]
        }
      ]
    },
    {
      "cell_type": "markdown",
      "source": [
        "$\\textbf{a)}$ Se identifican los conjuntos de entrenamiento, validación y test, y se calcula la proporción de categorías en variables cualitativas."
      ],
      "metadata": {
        "id": "LAEczf9b4X63"
      }
    },
    {
      "cell_type": "code",
      "source": [
        "#Divide by sets\n",
        "df_trainning = df[df['Set'] == 'Train']\n",
        "df_validation = df[df['Set'] == 'Validation']\n",
        "df_test = df[df['Set'] == 'Test']\n",
        "\n",
        "#Probabilities\n",
        "p_trainning = len(df_trainning['Set'])/len(df['Set'])\n",
        "p_validation = len(df_validation['Set'])/len(df['Set'])\n",
        "p_test = len(df_test['Set'])/len(df['Set'])\n",
        "\n",
        "#Display\n",
        "print(f'Probability of set: train, P: {p_trainning}')\n",
        "print(f'Probability of set: validation, P: {p_validation}')\n",
        "print(f'Probability of set: test, P: {p_test}')"
      ],
      "metadata": {
        "colab": {
          "base_uri": "https://localhost:8080/"
        },
        "id": "XoQ-xcnbD6k7",
        "outputId": "3f6d566b-a5fe-445e-a908-c6bd9547e242"
      },
      "execution_count": 6,
      "outputs": [
        {
          "output_type": "stream",
          "name": "stdout",
          "text": [
            "Probability of set: train, P: 0.8970099667774086\n",
            "Probability of set: validation, P: 0.03322259136212625\n",
            "Probability of set: test, P: 0.06976744186046512\n"
          ]
        }
      ]
    },
    {
      "cell_type": "code",
      "source": [
        "#Divide by categories\n",
        "df_dealer = df[df['Seller_Type'] == 'Dealer']\n",
        "df_fuel_diesel = df[df['Fuel_Type'] == 'Diesel']\n",
        "df_fuel_gnc = df[df['Fuel_Type'] == 'CNG']\n",
        "df_transmision = df[df['Transmission'] == 'Automatic']\n",
        "\n",
        "#Probabilities\n",
        "p_seller_dealer = len(df_dealer['Seller_Type'])/len(df['Seller_Type'])\n",
        "p_fuel_diesel = len(df_fuel_diesel['Fuel_Type'])/len(df['Fuel_Type'])\n",
        "p_fuel_gnc = len(df_fuel_gnc['Fuel_Type'])/len(df['Fuel_Type'])\n",
        "p_transmission_auto = len(df_transmision['Transmission'])/len(df['Transmission'])\n",
        "\n",
        "#Display\n",
        "print(f'Probability of seller type: dealer, P = {p_seller_dealer}')\n",
        "print(f'Probability of seller type: individual, P = {1 - p_seller_dealer}')\n",
        "print(f'Probability of fuel type: diesel, P = {p_fuel_diesel}')\n",
        "print(f'Probability of fuel type: gnc, P = {p_fuel_gnc}')\n",
        "print(f'Probability of seller type: petrol, P = {1 - p_fuel_diesel - p_fuel_gnc}')\n",
        "print(f'Probability of seller type: automatic, P = {p_transmission_auto}')\n",
        "print(f'Probability of seller type: manual, P = {1 - p_transmission_auto}')"
      ],
      "metadata": {
        "colab": {
          "base_uri": "https://localhost:8080/"
        },
        "id": "EE3INzCtD-nB",
        "outputId": "bd53449e-ade8-4bff-ca76-2d675e0a062a"
      },
      "execution_count": 7,
      "outputs": [
        {
          "output_type": "stream",
          "name": "stdout",
          "text": [
            "Probability of seller type: dealer, P = 0.6478405315614618\n",
            "Probability of seller type: individual, P = 0.3521594684385382\n",
            "Probability of fuel type: diesel, P = 0.19933554817275748\n",
            "Probability of fuel type: gnc, P = 0.006644518272425249\n",
            "Probability of seller type: petrol, P = 0.7940199335548173\n",
            "Probability of seller type: automatic, P = 0.132890365448505\n",
            "Probability of seller type: manual, P = 0.867109634551495\n"
          ]
        }
      ]
    },
    {
      "cell_type": "markdown",
      "source": [
        "$\\textbf{b)}$Pre-procesamiento:\n",
        "\n",
        "-Variables categóricas: Se convierten a formato numérico mediante OneHotEncoder.\n",
        "\n",
        "-Variables numéricas: Se generan términos polinómicos hasta grado 3 para capturar relaciones no lineales.\n",
        "\n",
        "-Normalización: Se estandarizan las variables para que tengan media 0 y varianza 1, evitando que la escala afecte la regresión.\n",
        "\n",
        "Dado que Seller_Tipe y Transmission son valriables binarias, es decir solo tienen dos casos, al usar OneHotEncode() coloco un drop para evitar repeticiones."
      ],
      "metadata": {
        "id": "NcxQ-EED1tkM"
      }
    },
    {
      "cell_type": "code",
      "source": [
        "#b)Pre-procesamiento\n",
        "#Categorical variables\n",
        "categorical_features = ['Seller_Type', 'Fuel_Type', 'Transmission']\n",
        "numeric_features = ['Year', 'Kms_Driven', 'Present_Price']\n",
        "target = 'Selling_Price'\n",
        "\n",
        "#Transformation definition:\n",
        "preprocessor = ColumnTransformer(\n",
        "    transformers=[\n",
        "        ('cat', OneHotEncoder(drop='if_binary'), categorical_features),  #drop avoid repetitions\n",
        "        ('num', PolynomialFeatures(degree=3, include_bias=False), numeric_features)  #3rd grade polynomial\n",
        "    ]\n",
        ")\n",
        "\n",
        "#Normalization\n",
        "scaler = StandardScaler()"
      ],
      "metadata": {
        "id": "JKtny3mEFFEs"
      },
      "execution_count": 8,
      "outputs": []
    },
    {
      "cell_type": "markdown",
      "source": [
        "$\\textbf{c)}$ Regresión lineal:\n",
        "\n",
        "-Se ajusta un modelo lineal a las variables transformadas mediante el pipeline.\n",
        "\n",
        "-Se evalúa el modelo con MSE en entrenamiento y validación.\n",
        "\n",
        "El pipeline, cada paso, transforma los datos y los pasa al siguiente. Así se asegura que todo el preprocesamiento y el modelo se apliquen de forma ordenada y consistente tanto en entrenamiento como en predicción\n",
        "\n",
        "-Preprocessor\n",
        "\n",
        "1.Toma las variables categóricas y aplica OneHotEncoder.\n",
        "\n",
        "2.Toma las variables numéricas y aplica PolynomialFeatures de grado 3.\n",
        "\n",
        "3.Devuelve una matriz numérica lista para escalar.\n",
        "\n",
        "-Scaler\n",
        "\n",
        "1.Estandariza todas las variables (media 0, varianza 1).\n",
        "\n",
        "-Regressor\n",
        "\n",
        "1.Ajusta un modelo lineal sobre las variables ya transformadas y escaladas.\n"
      ],
      "metadata": {
        "id": "V6zMsF7T4-eR"
      }
    },
    {
      "cell_type": "code",
      "source": [
        "#c)Linear Regresion\n",
        "#Complete pipeline\n",
        "model = Pipeline(steps=[\n",
        "    ('preprocessor', preprocessor),\n",
        "    ('scaler', scaler),\n",
        "    ('regressor', LinearRegression())\n",
        "])\n",
        "\n",
        "X_train = df_trainning.drop(columns=['Selling_Price', 'Set'])\n",
        "y_train = df_trainning['Selling_Price']\n",
        "X_val = df_validation.drop(columns=['Selling_Price', 'Set'])\n",
        "y_val = df_validation['Selling_Price']\n",
        "#Trainning with Train\n",
        "model.fit(X_train, y_train)\n",
        "#Predict\n",
        "y_pred_train = model.predict(X_train)\n",
        "y_pred_val = model.predict(X_val)\n",
        "#Errors\n",
        "mse_train = mean_squared_error(y_train, y_pred_train)\n",
        "mse_val = mean_squared_error(y_val, y_pred_val)\n",
        "\n",
        "print(\"MSE Train:\", mse_train)\n",
        "print(\"MSE Validation:\", mse_val)"
      ],
      "metadata": {
        "colab": {
          "base_uri": "https://localhost:8080/"
        },
        "id": "nt36TpJQFSYp",
        "outputId": "4a3f5599-d5fc-465c-8787-c3784b0b5b76"
      },
      "execution_count": 9,
      "outputs": [
        {
          "output_type": "stream",
          "name": "stdout",
          "text": [
            "MSE Train: 0.47269235595274556\n",
            "MSE Validation: 0.5419991553243808\n"
          ]
        }
      ]
    },
    {
      "cell_type": "markdown",
      "source": [
        "$\\textbf{d)}$Regularización (Ridge):\n",
        "\n",
        "-Se agrega un término de penalización sobre los coeficientes del modelo para evitar overfitting.\n",
        "\n",
        "-Se prueban distintos valores de λ, se selecciona el que minimiza el error.\n",
        "\n",
        "Con lambda muy chico tengo baja penalizacion y una varianza alta, causando un overfitting. Mientras que un lambda alto puede causar un underfitting, aumentado el MSE."
      ],
      "metadata": {
        "id": "OVQ4JrD93g1i"
      }
    },
    {
      "cell_type": "code",
      "source": [
        "#d)Regularizacion\n",
        "lambdas = np.logspace(-6, -2, 300)  #1e-6 < lambda < 1e-2\n",
        "mse_train_list = []\n",
        "mse_val_list = []\n",
        "\n",
        "for lam in lambdas:\n",
        "    ridge_model = Pipeline(steps=[\n",
        "        ('preprocessor', preprocessor),\n",
        "        ('scaler', scaler),\n",
        "        ('regressor', Ridge(alpha=lam))\n",
        "    ])\n",
        "    #Trainning\n",
        "    ridge_model.fit(X_train, y_train)\n",
        "    #Predict\n",
        "    y_pred_train = ridge_model.predict(X_train)\n",
        "    y_pred_val = ridge_model.predict(X_val)\n",
        "    #Mean cuadratic error\n",
        "    mse_train_list.append(mean_squared_error(y_train, y_pred_train))\n",
        "    mse_val_list.append(mean_squared_error(y_val, y_pred_val))\n",
        "\n",
        "#Plot MSE evolution through lambda\n",
        "plt.plot(lambdas, mse_train_list, label=\"Train MSE\")\n",
        "plt.plot(lambdas, mse_val_list, label=\"Validation MSE\")\n",
        "plt.xscale(\"log\")\n",
        "plt.xlabel(\"Lambda (α)\")\n",
        "plt.ylabel(\"MSE\")\n",
        "plt.title(\"Regularización Ridge\")\n",
        "plt.legend()\n",
        "plt.show()\n",
        "\n",
        "#Best lambda\n",
        "best_idx = np.argmin(mse_val_list)\n",
        "print(f\"Best λ: {lambdas[best_idx]} with MSE {mse_val_list[best_idx]}\")\n"
      ],
      "metadata": {
        "colab": {
          "base_uri": "https://localhost:8080/",
          "height": 494
        },
        "id": "AY2H1q8yFZdi",
        "outputId": "b2c18524-0dbb-450c-98a3-d81838e97f12"
      },
      "execution_count": 10,
      "outputs": [
        {
          "output_type": "display_data",
          "data": {
            "text/plain": [
              "<Figure size 640x480 with 1 Axes>"
            ],
            "image/png": "[encoded data removed]"
          },
          "metadata": {}
        },
        {
          "output_type": "stream",
          "name": "stdout",
          "text": [
            "Best λ: 0.0002332883097864156 with MSE 0.45670517268339184\n"
          ]
        }
      ]
    }
  ]
}